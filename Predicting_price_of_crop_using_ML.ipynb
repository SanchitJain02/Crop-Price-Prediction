{
 "cells": [
  {
   "cell_type": "code",
   "execution_count": 1,
   "id": "188bb6cd",
   "metadata": {},
   "outputs": [],
   "source": [
    "import pickle"
   ]
  },
  {
   "cell_type": "code",
   "execution_count": 2,
   "id": "ebe8c3ca",
   "metadata": {},
   "outputs": [],
   "source": [
    "import pandas as pd"
   ]
  },
  {
   "cell_type": "code",
   "execution_count": 3,
   "id": "ac7337af",
   "metadata": {},
   "outputs": [],
   "source": [
    "db = pd.read_csv(\"crops_data.csv\")"
   ]
  },
  {
   "cell_type": "code",
   "execution_count": 4,
   "id": "819a6e21",
   "metadata": {},
   "outputs": [
    {
     "data": {
      "text/html": [
       "<div>\n",
       "<style scoped>\n",
       "    .dataframe tbody tr th:only-of-type {\n",
       "        vertical-align: middle;\n",
       "    }\n",
       "\n",
       "    .dataframe tbody tr th {\n",
       "        vertical-align: top;\n",
       "    }\n",
       "\n",
       "    .dataframe thead th {\n",
       "        text-align: right;\n",
       "    }\n",
       "</style>\n",
       "<table border=\"1\" class=\"dataframe\">\n",
       "  <thead>\n",
       "    <tr style=\"text-align: right;\">\n",
       "      <th></th>\n",
       "      <th>Unnamed: 0</th>\n",
       "      <th>year</th>\n",
       "      <th>crop_id</th>\n",
       "      <th>crop</th>\n",
       "      <th>production</th>\n",
       "      <th>demand</th>\n",
       "      <th>price</th>\n",
       "    </tr>\n",
       "  </thead>\n",
       "  <tbody>\n",
       "    <tr>\n",
       "      <th>0</th>\n",
       "      <td>0</td>\n",
       "      <td>2010</td>\n",
       "      <td>1</td>\n",
       "      <td>Onion</td>\n",
       "      <td>32737</td>\n",
       "      <td>50275</td>\n",
       "      <td>2174</td>\n",
       "    </tr>\n",
       "    <tr>\n",
       "      <th>1</th>\n",
       "      <td>1</td>\n",
       "      <td>2010</td>\n",
       "      <td>2</td>\n",
       "      <td>Potato</td>\n",
       "      <td>50343</td>\n",
       "      <td>48812</td>\n",
       "      <td>2395</td>\n",
       "    </tr>\n",
       "    <tr>\n",
       "      <th>2</th>\n",
       "      <td>2</td>\n",
       "      <td>2010</td>\n",
       "      <td>3</td>\n",
       "      <td>Tomato</td>\n",
       "      <td>50334</td>\n",
       "      <td>33002</td>\n",
       "      <td>2189</td>\n",
       "    </tr>\n",
       "    <tr>\n",
       "      <th>3</th>\n",
       "      <td>3</td>\n",
       "      <td>2010</td>\n",
       "      <td>4</td>\n",
       "      <td>Apple</td>\n",
       "      <td>40927</td>\n",
       "      <td>57855</td>\n",
       "      <td>16217</td>\n",
       "    </tr>\n",
       "    <tr>\n",
       "      <th>4</th>\n",
       "      <td>4</td>\n",
       "      <td>2010</td>\n",
       "      <td>5</td>\n",
       "      <td>Bhindi</td>\n",
       "      <td>52172</td>\n",
       "      <td>58585</td>\n",
       "      <td>2303</td>\n",
       "    </tr>\n",
       "    <tr>\n",
       "      <th>...</th>\n",
       "      <td>...</td>\n",
       "      <td>...</td>\n",
       "      <td>...</td>\n",
       "      <td>...</td>\n",
       "      <td>...</td>\n",
       "      <td>...</td>\n",
       "      <td>...</td>\n",
       "    </tr>\n",
       "    <tr>\n",
       "      <th>607</th>\n",
       "      <td>607</td>\n",
       "      <td>2021</td>\n",
       "      <td>47</td>\n",
       "      <td>Sweet Potato</td>\n",
       "      <td>37080</td>\n",
       "      <td>35865</td>\n",
       "      <td>1606</td>\n",
       "    </tr>\n",
       "    <tr>\n",
       "      <th>608</th>\n",
       "      <td>608</td>\n",
       "      <td>2021</td>\n",
       "      <td>48</td>\n",
       "      <td>Pear</td>\n",
       "      <td>58425</td>\n",
       "      <td>42815</td>\n",
       "      <td>8924</td>\n",
       "    </tr>\n",
       "    <tr>\n",
       "      <th>609</th>\n",
       "      <td>609</td>\n",
       "      <td>2021</td>\n",
       "      <td>49</td>\n",
       "      <td>Mousambi</td>\n",
       "      <td>55042</td>\n",
       "      <td>50103</td>\n",
       "      <td>1292</td>\n",
       "    </tr>\n",
       "    <tr>\n",
       "      <th>610</th>\n",
       "      <td>610</td>\n",
       "      <td>2021</td>\n",
       "      <td>50</td>\n",
       "      <td>lentil</td>\n",
       "      <td>40156</td>\n",
       "      <td>36144</td>\n",
       "      <td>9237</td>\n",
       "    </tr>\n",
       "    <tr>\n",
       "      <th>611</th>\n",
       "      <td>611</td>\n",
       "      <td>2021</td>\n",
       "      <td>51</td>\n",
       "      <td>coffee</td>\n",
       "      <td>50048</td>\n",
       "      <td>58516</td>\n",
       "      <td>11324</td>\n",
       "    </tr>\n",
       "  </tbody>\n",
       "</table>\n",
       "<p>612 rows × 7 columns</p>\n",
       "</div>"
      ],
      "text/plain": [
       "     Unnamed: 0  year  crop_id          crop  production  demand  price\n",
       "0             0  2010        1         Onion       32737   50275   2174\n",
       "1             1  2010        2        Potato       50343   48812   2395\n",
       "2             2  2010        3        Tomato       50334   33002   2189\n",
       "3             3  2010        4         Apple       40927   57855  16217\n",
       "4             4  2010        5        Bhindi       52172   58585   2303\n",
       "..          ...   ...      ...           ...         ...     ...    ...\n",
       "607         607  2021       47  Sweet Potato       37080   35865   1606\n",
       "608         608  2021       48          Pear       58425   42815   8924\n",
       "609         609  2021       49      Mousambi       55042   50103   1292\n",
       "610         610  2021       50        lentil       40156   36144   9237\n",
       "611         611  2021       51        coffee       50048   58516  11324\n",
       "\n",
       "[612 rows x 7 columns]"
      ]
     },
     "execution_count": 4,
     "metadata": {},
     "output_type": "execute_result"
    }
   ],
   "source": [
    "db"
   ]
  },
  {
   "cell_type": "code",
   "execution_count": 11,
   "id": "d1412205",
   "metadata": {
    "scrolled": true
   },
   "outputs": [],
   "source": [
    "loaded_model = pickle.load(open(\"LinearRegressionModel.pkl\",'rb'))"
   ]
  },
  {
   "cell_type": "code",
   "execution_count": 12,
   "id": "463e4080",
   "metadata": {},
   "outputs": [
    {
     "data": {
      "text/plain": [
       "array([1751.23813808])"
      ]
     },
     "execution_count": 12,
     "metadata": {},
     "output_type": "execute_result"
    }
   ],
   "source": [
    "loaded_model.predict(pd.DataFrame([[2024,2,\"Potato\",60000,10000]],columns = [\"year\",\"crop_id\",\"crop\",\"production\",\"demand\"]))"
   ]
  },
  {
   "cell_type": "code",
   "execution_count": null,
   "id": "9d05dd8b",
   "metadata": {},
   "outputs": [],
   "source": []
  }
 ],
 "metadata": {
  "kernelspec": {
   "display_name": "Python 3",
   "language": "python",
   "name": "python3"
  },
  "language_info": {
   "codemirror_mode": {
    "name": "ipython",
    "version": 3
   },
   "file_extension": ".py",
   "mimetype": "text/x-python",
   "name": "python",
   "nbconvert_exporter": "python",
   "pygments_lexer": "ipython3",
   "version": "3.8.8"
  }
 },
 "nbformat": 4,
 "nbformat_minor": 5
}
