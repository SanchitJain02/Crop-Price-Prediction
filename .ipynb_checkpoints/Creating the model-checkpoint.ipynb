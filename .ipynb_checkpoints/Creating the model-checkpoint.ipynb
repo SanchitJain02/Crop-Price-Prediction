{
 "cells": [
  {
   "cell_type": "code",
   "execution_count": 4,
   "id": "42be2d25",
   "metadata": {},
   "outputs": [],
   "source": [
    "import pandas as pd"
   ]
  },
  {
   "cell_type": "code",
   "execution_count": 9,
   "id": "a7aa5752",
   "metadata": {},
   "outputs": [],
   "source": [
    "db = pd.read_csv(\"crops_data.csv\")"
   ]
  },
  {
   "cell_type": "code",
   "execution_count": 10,
   "id": "a5523c12",
   "metadata": {},
   "outputs": [
    {
     "data": {
      "text/html": [
       "<div>\n",
       "<style scoped>\n",
       "    .dataframe tbody tr th:only-of-type {\n",
       "        vertical-align: middle;\n",
       "    }\n",
       "\n",
       "    .dataframe tbody tr th {\n",
       "        vertical-align: top;\n",
       "    }\n",
       "\n",
       "    .dataframe thead th {\n",
       "        text-align: right;\n",
       "    }\n",
       "</style>\n",
       "<table border=\"1\" class=\"dataframe\">\n",
       "  <thead>\n",
       "    <tr style=\"text-align: right;\">\n",
       "      <th></th>\n",
       "      <th>Unnamed: 0</th>\n",
       "      <th>year</th>\n",
       "      <th>crop_id</th>\n",
       "      <th>crop</th>\n",
       "      <th>production</th>\n",
       "      <th>demand</th>\n",
       "      <th>price</th>\n",
       "    </tr>\n",
       "  </thead>\n",
       "  <tbody>\n",
       "    <tr>\n",
       "      <th>0</th>\n",
       "      <td>0</td>\n",
       "      <td>2010</td>\n",
       "      <td>1</td>\n",
       "      <td>Onion</td>\n",
       "      <td>32737</td>\n",
       "      <td>50275</td>\n",
       "      <td>2174</td>\n",
       "    </tr>\n",
       "    <tr>\n",
       "      <th>1</th>\n",
       "      <td>1</td>\n",
       "      <td>2010</td>\n",
       "      <td>2</td>\n",
       "      <td>Potato</td>\n",
       "      <td>50343</td>\n",
       "      <td>48812</td>\n",
       "      <td>2395</td>\n",
       "    </tr>\n",
       "    <tr>\n",
       "      <th>2</th>\n",
       "      <td>2</td>\n",
       "      <td>2010</td>\n",
       "      <td>3</td>\n",
       "      <td>Tomato</td>\n",
       "      <td>50334</td>\n",
       "      <td>33002</td>\n",
       "      <td>2189</td>\n",
       "    </tr>\n",
       "    <tr>\n",
       "      <th>3</th>\n",
       "      <td>3</td>\n",
       "      <td>2010</td>\n",
       "      <td>4</td>\n",
       "      <td>Apple</td>\n",
       "      <td>40927</td>\n",
       "      <td>57855</td>\n",
       "      <td>16217</td>\n",
       "    </tr>\n",
       "    <tr>\n",
       "      <th>4</th>\n",
       "      <td>4</td>\n",
       "      <td>2010</td>\n",
       "      <td>5</td>\n",
       "      <td>Bhindi</td>\n",
       "      <td>52172</td>\n",
       "      <td>58585</td>\n",
       "      <td>2303</td>\n",
       "    </tr>\n",
       "    <tr>\n",
       "      <th>...</th>\n",
       "      <td>...</td>\n",
       "      <td>...</td>\n",
       "      <td>...</td>\n",
       "      <td>...</td>\n",
       "      <td>...</td>\n",
       "      <td>...</td>\n",
       "      <td>...</td>\n",
       "    </tr>\n",
       "    <tr>\n",
       "      <th>607</th>\n",
       "      <td>607</td>\n",
       "      <td>2021</td>\n",
       "      <td>47</td>\n",
       "      <td>Sweet Potato</td>\n",
       "      <td>37080</td>\n",
       "      <td>35865</td>\n",
       "      <td>1606</td>\n",
       "    </tr>\n",
       "    <tr>\n",
       "      <th>608</th>\n",
       "      <td>608</td>\n",
       "      <td>2021</td>\n",
       "      <td>48</td>\n",
       "      <td>Pear</td>\n",
       "      <td>58425</td>\n",
       "      <td>42815</td>\n",
       "      <td>8924</td>\n",
       "    </tr>\n",
       "    <tr>\n",
       "      <th>609</th>\n",
       "      <td>609</td>\n",
       "      <td>2021</td>\n",
       "      <td>49</td>\n",
       "      <td>Mousambi</td>\n",
       "      <td>55042</td>\n",
       "      <td>50103</td>\n",
       "      <td>1292</td>\n",
       "    </tr>\n",
       "    <tr>\n",
       "      <th>610</th>\n",
       "      <td>610</td>\n",
       "      <td>2021</td>\n",
       "      <td>50</td>\n",
       "      <td>lentil</td>\n",
       "      <td>40156</td>\n",
       "      <td>36144</td>\n",
       "      <td>9237</td>\n",
       "    </tr>\n",
       "    <tr>\n",
       "      <th>611</th>\n",
       "      <td>611</td>\n",
       "      <td>2021</td>\n",
       "      <td>51</td>\n",
       "      <td>coffee</td>\n",
       "      <td>50048</td>\n",
       "      <td>58516</td>\n",
       "      <td>11324</td>\n",
       "    </tr>\n",
       "  </tbody>\n",
       "</table>\n",
       "<p>612 rows × 7 columns</p>\n",
       "</div>"
      ],
      "text/plain": [
       "     Unnamed: 0  year  crop_id          crop  production  demand  price\n",
       "0             0  2010        1         Onion       32737   50275   2174\n",
       "1             1  2010        2        Potato       50343   48812   2395\n",
       "2             2  2010        3        Tomato       50334   33002   2189\n",
       "3             3  2010        4         Apple       40927   57855  16217\n",
       "4             4  2010        5        Bhindi       52172   58585   2303\n",
       "..          ...   ...      ...           ...         ...     ...    ...\n",
       "607         607  2021       47  Sweet Potato       37080   35865   1606\n",
       "608         608  2021       48          Pear       58425   42815   8924\n",
       "609         609  2021       49      Mousambi       55042   50103   1292\n",
       "610         610  2021       50        lentil       40156   36144   9237\n",
       "611         611  2021       51        coffee       50048   58516  11324\n",
       "\n",
       "[612 rows x 7 columns]"
      ]
     },
     "execution_count": 10,
     "metadata": {},
     "output_type": "execute_result"
    }
   ],
   "source": [
    "db"
   ]
  },
  {
   "cell_type": "code",
   "execution_count": 11,
   "id": "66ec09ca",
   "metadata": {},
   "outputs": [
    {
     "name": "stdout",
     "output_type": "stream",
     "text": [
      "<class 'pandas.core.frame.DataFrame'>\n",
      "RangeIndex: 612 entries, 0 to 611\n",
      "Data columns (total 7 columns):\n",
      " #   Column      Non-Null Count  Dtype \n",
      "---  ------      --------------  ----- \n",
      " 0   Unnamed: 0  612 non-null    int64 \n",
      " 1   year        612 non-null    int64 \n",
      " 2   crop_id     612 non-null    int64 \n",
      " 3   crop        612 non-null    object\n",
      " 4   production  612 non-null    int64 \n",
      " 5   demand      612 non-null    int64 \n",
      " 6   price       612 non-null    int64 \n",
      "dtypes: int64(6), object(1)\n",
      "memory usage: 33.6+ KB\n"
     ]
    }
   ],
   "source": [
    "db.info()"
   ]
  },
  {
   "cell_type": "code",
   "execution_count": 12,
   "id": "0259efbc",
   "metadata": {},
   "outputs": [
    {
     "data": {
      "text/plain": [
       "array([ 1,  2,  3,  4,  5,  6,  7,  8,  9, 10, 11, 12, 13, 14, 15, 16, 17,\n",
       "       18, 19, 20, 21, 22, 23, 24, 25, 26, 27, 28, 29, 30, 31, 32, 33, 34,\n",
       "       35, 36, 37, 38, 39, 40, 41, 42, 43, 44, 45, 46, 47, 48, 49, 50, 51],\n",
       "      dtype=int64)"
      ]
     },
     "execution_count": 12,
     "metadata": {},
     "output_type": "execute_result"
    }
   ],
   "source": [
    "db[\"crop_id\"].unique()"
   ]
  },
  {
   "cell_type": "code",
   "execution_count": 13,
   "id": "851e143c",
   "metadata": {},
   "outputs": [
    {
     "data": {
      "text/html": [
       "<div>\n",
       "<style scoped>\n",
       "    .dataframe tbody tr th:only-of-type {\n",
       "        vertical-align: middle;\n",
       "    }\n",
       "\n",
       "    .dataframe tbody tr th {\n",
       "        vertical-align: top;\n",
       "    }\n",
       "\n",
       "    .dataframe thead th {\n",
       "        text-align: right;\n",
       "    }\n",
       "</style>\n",
       "<table border=\"1\" class=\"dataframe\">\n",
       "  <thead>\n",
       "    <tr style=\"text-align: right;\">\n",
       "      <th></th>\n",
       "      <th>Unnamed: 0</th>\n",
       "      <th>year</th>\n",
       "      <th>crop_id</th>\n",
       "      <th>production</th>\n",
       "      <th>demand</th>\n",
       "      <th>price</th>\n",
       "    </tr>\n",
       "  </thead>\n",
       "  <tbody>\n",
       "    <tr>\n",
       "      <th>count</th>\n",
       "      <td>612.000000</td>\n",
       "      <td>612.000000</td>\n",
       "      <td>612.000000</td>\n",
       "      <td>612.000000</td>\n",
       "      <td>612.000000</td>\n",
       "      <td>612.000000</td>\n",
       "    </tr>\n",
       "    <tr>\n",
       "      <th>mean</th>\n",
       "      <td>305.500000</td>\n",
       "      <td>2015.500000</td>\n",
       "      <td>26.000000</td>\n",
       "      <td>43918.522876</td>\n",
       "      <td>45559.071895</td>\n",
       "      <td>3759.158497</td>\n",
       "    </tr>\n",
       "    <tr>\n",
       "      <th>std</th>\n",
       "      <td>176.813461</td>\n",
       "      <td>3.454876</td>\n",
       "      <td>14.731642</td>\n",
       "      <td>7399.881823</td>\n",
       "      <td>9467.034721</td>\n",
       "      <td>3382.025948</td>\n",
       "    </tr>\n",
       "    <tr>\n",
       "      <th>min</th>\n",
       "      <td>0.000000</td>\n",
       "      <td>2010.000000</td>\n",
       "      <td>1.000000</td>\n",
       "      <td>30766.000000</td>\n",
       "      <td>27871.000000</td>\n",
       "      <td>202.000000</td>\n",
       "    </tr>\n",
       "    <tr>\n",
       "      <th>25%</th>\n",
       "      <td>152.750000</td>\n",
       "      <td>2012.750000</td>\n",
       "      <td>13.000000</td>\n",
       "      <td>37542.250000</td>\n",
       "      <td>36126.250000</td>\n",
       "      <td>1405.000000</td>\n",
       "    </tr>\n",
       "    <tr>\n",
       "      <th>50%</th>\n",
       "      <td>305.500000</td>\n",
       "      <td>2015.500000</td>\n",
       "      <td>26.000000</td>\n",
       "      <td>44667.500000</td>\n",
       "      <td>46377.500000</td>\n",
       "      <td>2322.000000</td>\n",
       "    </tr>\n",
       "    <tr>\n",
       "      <th>75%</th>\n",
       "      <td>458.250000</td>\n",
       "      <td>2018.250000</td>\n",
       "      <td>39.000000</td>\n",
       "      <td>48668.500000</td>\n",
       "      <td>54756.250000</td>\n",
       "      <td>5570.000000</td>\n",
       "    </tr>\n",
       "    <tr>\n",
       "      <th>max</th>\n",
       "      <td>611.000000</td>\n",
       "      <td>2021.000000</td>\n",
       "      <td>51.000000</td>\n",
       "      <td>62671.000000</td>\n",
       "      <td>61553.000000</td>\n",
       "      <td>16217.000000</td>\n",
       "    </tr>\n",
       "  </tbody>\n",
       "</table>\n",
       "</div>"
      ],
      "text/plain": [
       "       Unnamed: 0         year     crop_id    production        demand  \\\n",
       "count  612.000000   612.000000  612.000000    612.000000    612.000000   \n",
       "mean   305.500000  2015.500000   26.000000  43918.522876  45559.071895   \n",
       "std    176.813461     3.454876   14.731642   7399.881823   9467.034721   \n",
       "min      0.000000  2010.000000    1.000000  30766.000000  27871.000000   \n",
       "25%    152.750000  2012.750000   13.000000  37542.250000  36126.250000   \n",
       "50%    305.500000  2015.500000   26.000000  44667.500000  46377.500000   \n",
       "75%    458.250000  2018.250000   39.000000  48668.500000  54756.250000   \n",
       "max    611.000000  2021.000000   51.000000  62671.000000  61553.000000   \n",
       "\n",
       "              price  \n",
       "count    612.000000  \n",
       "mean    3759.158497  \n",
       "std     3382.025948  \n",
       "min      202.000000  \n",
       "25%     1405.000000  \n",
       "50%     2322.000000  \n",
       "75%     5570.000000  \n",
       "max    16217.000000  "
      ]
     },
     "execution_count": 13,
     "metadata": {},
     "output_type": "execute_result"
    }
   ],
   "source": [
    "db.describe()"
   ]
  },
  {
   "cell_type": "code",
   "execution_count": 14,
   "id": "4ebb788f",
   "metadata": {},
   "outputs": [],
   "source": [
    "db = db.drop(['Unnamed: 0'], axis=1)"
   ]
  },
  {
   "cell_type": "code",
   "execution_count": 15,
   "id": "03c33454",
   "metadata": {},
   "outputs": [
    {
     "data": {
      "text/html": [
       "<div>\n",
       "<style scoped>\n",
       "    .dataframe tbody tr th:only-of-type {\n",
       "        vertical-align: middle;\n",
       "    }\n",
       "\n",
       "    .dataframe tbody tr th {\n",
       "        vertical-align: top;\n",
       "    }\n",
       "\n",
       "    .dataframe thead th {\n",
       "        text-align: right;\n",
       "    }\n",
       "</style>\n",
       "<table border=\"1\" class=\"dataframe\">\n",
       "  <thead>\n",
       "    <tr style=\"text-align: right;\">\n",
       "      <th></th>\n",
       "      <th>year</th>\n",
       "      <th>crop_id</th>\n",
       "      <th>crop</th>\n",
       "      <th>production</th>\n",
       "      <th>demand</th>\n",
       "      <th>price</th>\n",
       "    </tr>\n",
       "  </thead>\n",
       "  <tbody>\n",
       "    <tr>\n",
       "      <th>0</th>\n",
       "      <td>2010</td>\n",
       "      <td>1</td>\n",
       "      <td>Onion</td>\n",
       "      <td>32737</td>\n",
       "      <td>50275</td>\n",
       "      <td>2174</td>\n",
       "    </tr>\n",
       "    <tr>\n",
       "      <th>1</th>\n",
       "      <td>2010</td>\n",
       "      <td>2</td>\n",
       "      <td>Potato</td>\n",
       "      <td>50343</td>\n",
       "      <td>48812</td>\n",
       "      <td>2395</td>\n",
       "    </tr>\n",
       "    <tr>\n",
       "      <th>2</th>\n",
       "      <td>2010</td>\n",
       "      <td>3</td>\n",
       "      <td>Tomato</td>\n",
       "      <td>50334</td>\n",
       "      <td>33002</td>\n",
       "      <td>2189</td>\n",
       "    </tr>\n",
       "    <tr>\n",
       "      <th>3</th>\n",
       "      <td>2010</td>\n",
       "      <td>4</td>\n",
       "      <td>Apple</td>\n",
       "      <td>40927</td>\n",
       "      <td>57855</td>\n",
       "      <td>16217</td>\n",
       "    </tr>\n",
       "    <tr>\n",
       "      <th>4</th>\n",
       "      <td>2010</td>\n",
       "      <td>5</td>\n",
       "      <td>Bhindi</td>\n",
       "      <td>52172</td>\n",
       "      <td>58585</td>\n",
       "      <td>2303</td>\n",
       "    </tr>\n",
       "    <tr>\n",
       "      <th>...</th>\n",
       "      <td>...</td>\n",
       "      <td>...</td>\n",
       "      <td>...</td>\n",
       "      <td>...</td>\n",
       "      <td>...</td>\n",
       "      <td>...</td>\n",
       "    </tr>\n",
       "    <tr>\n",
       "      <th>607</th>\n",
       "      <td>2021</td>\n",
       "      <td>47</td>\n",
       "      <td>Sweet Potato</td>\n",
       "      <td>37080</td>\n",
       "      <td>35865</td>\n",
       "      <td>1606</td>\n",
       "    </tr>\n",
       "    <tr>\n",
       "      <th>608</th>\n",
       "      <td>2021</td>\n",
       "      <td>48</td>\n",
       "      <td>Pear</td>\n",
       "      <td>58425</td>\n",
       "      <td>42815</td>\n",
       "      <td>8924</td>\n",
       "    </tr>\n",
       "    <tr>\n",
       "      <th>609</th>\n",
       "      <td>2021</td>\n",
       "      <td>49</td>\n",
       "      <td>Mousambi</td>\n",
       "      <td>55042</td>\n",
       "      <td>50103</td>\n",
       "      <td>1292</td>\n",
       "    </tr>\n",
       "    <tr>\n",
       "      <th>610</th>\n",
       "      <td>2021</td>\n",
       "      <td>50</td>\n",
       "      <td>lentil</td>\n",
       "      <td>40156</td>\n",
       "      <td>36144</td>\n",
       "      <td>9237</td>\n",
       "    </tr>\n",
       "    <tr>\n",
       "      <th>611</th>\n",
       "      <td>2021</td>\n",
       "      <td>51</td>\n",
       "      <td>coffee</td>\n",
       "      <td>50048</td>\n",
       "      <td>58516</td>\n",
       "      <td>11324</td>\n",
       "    </tr>\n",
       "  </tbody>\n",
       "</table>\n",
       "<p>612 rows × 6 columns</p>\n",
       "</div>"
      ],
      "text/plain": [
       "     year  crop_id          crop  production  demand  price\n",
       "0    2010        1         Onion       32737   50275   2174\n",
       "1    2010        2        Potato       50343   48812   2395\n",
       "2    2010        3        Tomato       50334   33002   2189\n",
       "3    2010        4         Apple       40927   57855  16217\n",
       "4    2010        5        Bhindi       52172   58585   2303\n",
       "..    ...      ...           ...         ...     ...    ...\n",
       "607  2021       47  Sweet Potato       37080   35865   1606\n",
       "608  2021       48          Pear       58425   42815   8924\n",
       "609  2021       49      Mousambi       55042   50103   1292\n",
       "610  2021       50        lentil       40156   36144   9237\n",
       "611  2021       51        coffee       50048   58516  11324\n",
       "\n",
       "[612 rows x 6 columns]"
      ]
     },
     "execution_count": 15,
     "metadata": {},
     "output_type": "execute_result"
    }
   ],
   "source": [
    "db"
   ]
  },
  {
   "cell_type": "code",
   "execution_count": 16,
   "id": "5a5047bc",
   "metadata": {},
   "outputs": [
    {
     "data": {
      "text/html": [
       "<div>\n",
       "<style scoped>\n",
       "    .dataframe tbody tr th:only-of-type {\n",
       "        vertical-align: middle;\n",
       "    }\n",
       "\n",
       "    .dataframe tbody tr th {\n",
       "        vertical-align: top;\n",
       "    }\n",
       "\n",
       "    .dataframe thead th {\n",
       "        text-align: right;\n",
       "    }\n",
       "</style>\n",
       "<table border=\"1\" class=\"dataframe\">\n",
       "  <thead>\n",
       "    <tr style=\"text-align: right;\">\n",
       "      <th></th>\n",
       "      <th>year</th>\n",
       "      <th>crop_id</th>\n",
       "      <th>production</th>\n",
       "      <th>demand</th>\n",
       "      <th>price</th>\n",
       "    </tr>\n",
       "  </thead>\n",
       "  <tbody>\n",
       "    <tr>\n",
       "      <th>count</th>\n",
       "      <td>612.000000</td>\n",
       "      <td>612.000000</td>\n",
       "      <td>612.000000</td>\n",
       "      <td>612.000000</td>\n",
       "      <td>612.000000</td>\n",
       "    </tr>\n",
       "    <tr>\n",
       "      <th>mean</th>\n",
       "      <td>2015.500000</td>\n",
       "      <td>26.000000</td>\n",
       "      <td>43918.522876</td>\n",
       "      <td>45559.071895</td>\n",
       "      <td>3759.158497</td>\n",
       "    </tr>\n",
       "    <tr>\n",
       "      <th>std</th>\n",
       "      <td>3.454876</td>\n",
       "      <td>14.731642</td>\n",
       "      <td>7399.881823</td>\n",
       "      <td>9467.034721</td>\n",
       "      <td>3382.025948</td>\n",
       "    </tr>\n",
       "    <tr>\n",
       "      <th>min</th>\n",
       "      <td>2010.000000</td>\n",
       "      <td>1.000000</td>\n",
       "      <td>30766.000000</td>\n",
       "      <td>27871.000000</td>\n",
       "      <td>202.000000</td>\n",
       "    </tr>\n",
       "    <tr>\n",
       "      <th>25%</th>\n",
       "      <td>2012.750000</td>\n",
       "      <td>13.000000</td>\n",
       "      <td>37542.250000</td>\n",
       "      <td>36126.250000</td>\n",
       "      <td>1405.000000</td>\n",
       "    </tr>\n",
       "    <tr>\n",
       "      <th>50%</th>\n",
       "      <td>2015.500000</td>\n",
       "      <td>26.000000</td>\n",
       "      <td>44667.500000</td>\n",
       "      <td>46377.500000</td>\n",
       "      <td>2322.000000</td>\n",
       "    </tr>\n",
       "    <tr>\n",
       "      <th>75%</th>\n",
       "      <td>2018.250000</td>\n",
       "      <td>39.000000</td>\n",
       "      <td>48668.500000</td>\n",
       "      <td>54756.250000</td>\n",
       "      <td>5570.000000</td>\n",
       "    </tr>\n",
       "    <tr>\n",
       "      <th>max</th>\n",
       "      <td>2021.000000</td>\n",
       "      <td>51.000000</td>\n",
       "      <td>62671.000000</td>\n",
       "      <td>61553.000000</td>\n",
       "      <td>16217.000000</td>\n",
       "    </tr>\n",
       "  </tbody>\n",
       "</table>\n",
       "</div>"
      ],
      "text/plain": [
       "              year     crop_id    production        demand         price\n",
       "count   612.000000  612.000000    612.000000    612.000000    612.000000\n",
       "mean   2015.500000   26.000000  43918.522876  45559.071895   3759.158497\n",
       "std       3.454876   14.731642   7399.881823   9467.034721   3382.025948\n",
       "min    2010.000000    1.000000  30766.000000  27871.000000    202.000000\n",
       "25%    2012.750000   13.000000  37542.250000  36126.250000   1405.000000\n",
       "50%    2015.500000   26.000000  44667.500000  46377.500000   2322.000000\n",
       "75%    2018.250000   39.000000  48668.500000  54756.250000   5570.000000\n",
       "max    2021.000000   51.000000  62671.000000  61553.000000  16217.000000"
      ]
     },
     "execution_count": 16,
     "metadata": {},
     "output_type": "execute_result"
    }
   ],
   "source": [
    "db.describe()"
   ]
  },
  {
   "cell_type": "code",
   "execution_count": 17,
   "id": "a7bcfea2",
   "metadata": {},
   "outputs": [],
   "source": [
    "x = db.drop(columns = \"price\")\n",
    "y = db[\"price\"]"
   ]
  },
  {
   "cell_type": "code",
   "execution_count": 18,
   "id": "1348f76d",
   "metadata": {},
   "outputs": [],
   "source": [
    "from sklearn.model_selection import train_test_split\n",
    "X_train,X_test,y_train,y_test = train_test_split(x,y,test_size=0.2,random_state = 42)"
   ]
  },
  {
   "cell_type": "code",
   "execution_count": 19,
   "id": "07aed3e2",
   "metadata": {},
   "outputs": [],
   "source": [
    "from sklearn.linear_model import LinearRegression\n",
    "from sklearn.metrics import r2_score\n",
    "from sklearn.preprocessing import OneHotEncoder"
   ]
  },
  {
   "cell_type": "code",
   "execution_count": 20,
   "id": "6bed05bf",
   "metadata": {},
   "outputs": [
    {
     "data": {
      "text/html": [
       "<style>#sk-container-id-1 {color: black;background-color: white;}#sk-container-id-1 pre{padding: 0;}#sk-container-id-1 div.sk-toggleable {background-color: white;}#sk-container-id-1 label.sk-toggleable__label {cursor: pointer;display: block;width: 100%;margin-bottom: 0;padding: 0.3em;box-sizing: border-box;text-align: center;}#sk-container-id-1 label.sk-toggleable__label-arrow:before {content: \"▸\";float: left;margin-right: 0.25em;color: #696969;}#sk-container-id-1 label.sk-toggleable__label-arrow:hover:before {color: black;}#sk-container-id-1 div.sk-estimator:hover label.sk-toggleable__label-arrow:before {color: black;}#sk-container-id-1 div.sk-toggleable__content {max-height: 0;max-width: 0;overflow: hidden;text-align: left;background-color: #f0f8ff;}#sk-container-id-1 div.sk-toggleable__content pre {margin: 0.2em;color: black;border-radius: 0.25em;background-color: #f0f8ff;}#sk-container-id-1 input.sk-toggleable__control:checked~div.sk-toggleable__content {max-height: 200px;max-width: 100%;overflow: auto;}#sk-container-id-1 input.sk-toggleable__control:checked~label.sk-toggleable__label-arrow:before {content: \"▾\";}#sk-container-id-1 div.sk-estimator input.sk-toggleable__control:checked~label.sk-toggleable__label {background-color: #d4ebff;}#sk-container-id-1 div.sk-label input.sk-toggleable__control:checked~label.sk-toggleable__label {background-color: #d4ebff;}#sk-container-id-1 input.sk-hidden--visually {border: 0;clip: rect(1px 1px 1px 1px);clip: rect(1px, 1px, 1px, 1px);height: 1px;margin: -1px;overflow: hidden;padding: 0;position: absolute;width: 1px;}#sk-container-id-1 div.sk-estimator {font-family: monospace;background-color: #f0f8ff;border: 1px dotted black;border-radius: 0.25em;box-sizing: border-box;margin-bottom: 0.5em;}#sk-container-id-1 div.sk-estimator:hover {background-color: #d4ebff;}#sk-container-id-1 div.sk-parallel-item::after {content: \"\";width: 100%;border-bottom: 1px solid gray;flex-grow: 1;}#sk-container-id-1 div.sk-label:hover label.sk-toggleable__label {background-color: #d4ebff;}#sk-container-id-1 div.sk-serial::before {content: \"\";position: absolute;border-left: 1px solid gray;box-sizing: border-box;top: 0;bottom: 0;left: 50%;z-index: 0;}#sk-container-id-1 div.sk-serial {display: flex;flex-direction: column;align-items: center;background-color: white;padding-right: 0.2em;padding-left: 0.2em;position: relative;}#sk-container-id-1 div.sk-item {position: relative;z-index: 1;}#sk-container-id-1 div.sk-parallel {display: flex;align-items: stretch;justify-content: center;background-color: white;position: relative;}#sk-container-id-1 div.sk-item::before, #sk-container-id-1 div.sk-parallel-item::before {content: \"\";position: absolute;border-left: 1px solid gray;box-sizing: border-box;top: 0;bottom: 0;left: 50%;z-index: -1;}#sk-container-id-1 div.sk-parallel-item {display: flex;flex-direction: column;z-index: 1;position: relative;background-color: white;}#sk-container-id-1 div.sk-parallel-item:first-child::after {align-self: flex-end;width: 50%;}#sk-container-id-1 div.sk-parallel-item:last-child::after {align-self: flex-start;width: 50%;}#sk-container-id-1 div.sk-parallel-item:only-child::after {width: 0;}#sk-container-id-1 div.sk-dashed-wrapped {border: 1px dashed gray;margin: 0 0.4em 0.5em 0.4em;box-sizing: border-box;padding-bottom: 0.4em;background-color: white;}#sk-container-id-1 div.sk-label label {font-family: monospace;font-weight: bold;display: inline-block;line-height: 1.2em;}#sk-container-id-1 div.sk-label-container {text-align: center;}#sk-container-id-1 div.sk-container {/* jupyter's `normalize.less` sets `[hidden] { display: none; }` but bootstrap.min.css set `[hidden] { display: none !important; }` so we also need the `!important` here to be able to override the default hidden behavior on the sphinx rendered scikit-learn.org. See: https://github.com/scikit-learn/scikit-learn/issues/21755 */display: inline-block !important;position: relative;}#sk-container-id-1 div.sk-text-repr-fallback {display: none;}</style><div id=\"sk-container-id-1\" class=\"sk-top-container\"><div class=\"sk-text-repr-fallback\"><pre>OneHotEncoder()</pre><b>In a Jupyter environment, please rerun this cell to show the HTML representation or trust the notebook. <br />On GitHub, the HTML representation is unable to render, please try loading this page with nbviewer.org.</b></div><div class=\"sk-container\" hidden><div class=\"sk-item\"><div class=\"sk-estimator sk-toggleable\"><input class=\"sk-toggleable__control sk-hidden--visually\" id=\"sk-estimator-id-1\" type=\"checkbox\" checked><label for=\"sk-estimator-id-1\" class=\"sk-toggleable__label sk-toggleable__label-arrow\">OneHotEncoder</label><div class=\"sk-toggleable__content\"><pre>OneHotEncoder()</pre></div></div></div></div></div>"
      ],
      "text/plain": [
       "OneHotEncoder()"
      ]
     },
     "execution_count": 20,
     "metadata": {},
     "output_type": "execute_result"
    }
   ],
   "source": [
    "ohe = OneHotEncoder()\n",
    "ohe.fit(x[[\"crop\"]])"
   ]
  },
  {
   "cell_type": "code",
   "execution_count": 21,
   "id": "50fe21d3",
   "metadata": {},
   "outputs": [
    {
     "data": {
      "text/plain": [
       "[array(['Apple', 'Banana', 'Bhindi', 'Bitter Gourd', 'Brinjal', 'Cabbage',\n",
       "        'Capsicum', 'Carrot', 'Cauliflower', 'Cluster Beans', 'Colacasia',\n",
       "        'Cucumbar', 'Dry Fodder', 'French Beans', 'Grapes', 'Green Chilli',\n",
       "        'Green Fodder', 'Guava', 'Leafy Vegetable', 'Lemon', 'Maize',\n",
       "        'Mango', 'Methi(Leaves)', 'Mousambi', 'Onion', 'Pear',\n",
       "        'Pomegranate', 'Potato', 'Pumpkin', 'Raddish', 'Sponge Gourd',\n",
       "        'Sweet Potato', 'Tinda', 'Tomato', 'Wheat', 'blackgram',\n",
       "        'chickpea', 'coconut', 'coffee', 'cotton', 'jute', 'kidneybeans',\n",
       "        'lentil', 'mothbeans', 'mungbean', 'muskmelon', 'orange', 'papaya',\n",
       "        'pigeonbeans', 'rice', 'watermelon'], dtype=object)]"
      ]
     },
     "execution_count": 21,
     "metadata": {},
     "output_type": "execute_result"
    }
   ],
   "source": [
    "ohe.categories_"
   ]
  },
  {
   "cell_type": "code",
   "execution_count": 22,
   "id": "016c9f63",
   "metadata": {},
   "outputs": [],
   "source": [
    "from sklearn.compose import make_column_transformer\n",
    "from sklearn.pipeline import make_pipeline"
   ]
  },
  {
   "cell_type": "code",
   "execution_count": 23,
   "id": "ecb686e6",
   "metadata": {
    "scrolled": true
   },
   "outputs": [],
   "source": [
    "column_trans = make_column_transformer((OneHotEncoder(categories = ohe.categories_),[\"crop\"]),remainder = \"passthrough\") "
   ]
  },
  {
   "cell_type": "code",
   "execution_count": 24,
   "id": "10e90f4b",
   "metadata": {},
   "outputs": [],
   "source": [
    "lr  = LinearRegression()"
   ]
  },
  {
   "cell_type": "code",
   "execution_count": 25,
   "id": "fc0dbdcd",
   "metadata": {},
   "outputs": [],
   "source": [
    "pipe = make_pipeline(column_trans,lr)"
   ]
  },
  {
   "cell_type": "code",
   "execution_count": 26,
   "id": "a193e422",
   "metadata": {},
   "outputs": [
    {
     "data": {
      "text/html": [
       "<style>#sk-container-id-2 {color: black;background-color: white;}#sk-container-id-2 pre{padding: 0;}#sk-container-id-2 div.sk-toggleable {background-color: white;}#sk-container-id-2 label.sk-toggleable__label {cursor: pointer;display: block;width: 100%;margin-bottom: 0;padding: 0.3em;box-sizing: border-box;text-align: center;}#sk-container-id-2 label.sk-toggleable__label-arrow:before {content: \"▸\";float: left;margin-right: 0.25em;color: #696969;}#sk-container-id-2 label.sk-toggleable__label-arrow:hover:before {color: black;}#sk-container-id-2 div.sk-estimator:hover label.sk-toggleable__label-arrow:before {color: black;}#sk-container-id-2 div.sk-toggleable__content {max-height: 0;max-width: 0;overflow: hidden;text-align: left;background-color: #f0f8ff;}#sk-container-id-2 div.sk-toggleable__content pre {margin: 0.2em;color: black;border-radius: 0.25em;background-color: #f0f8ff;}#sk-container-id-2 input.sk-toggleable__control:checked~div.sk-toggleable__content {max-height: 200px;max-width: 100%;overflow: auto;}#sk-container-id-2 input.sk-toggleable__control:checked~label.sk-toggleable__label-arrow:before {content: \"▾\";}#sk-container-id-2 div.sk-estimator input.sk-toggleable__control:checked~label.sk-toggleable__label {background-color: #d4ebff;}#sk-container-id-2 div.sk-label input.sk-toggleable__control:checked~label.sk-toggleable__label {background-color: #d4ebff;}#sk-container-id-2 input.sk-hidden--visually {border: 0;clip: rect(1px 1px 1px 1px);clip: rect(1px, 1px, 1px, 1px);height: 1px;margin: -1px;overflow: hidden;padding: 0;position: absolute;width: 1px;}#sk-container-id-2 div.sk-estimator {font-family: monospace;background-color: #f0f8ff;border: 1px dotted black;border-radius: 0.25em;box-sizing: border-box;margin-bottom: 0.5em;}#sk-container-id-2 div.sk-estimator:hover {background-color: #d4ebff;}#sk-container-id-2 div.sk-parallel-item::after {content: \"\";width: 100%;border-bottom: 1px solid gray;flex-grow: 1;}#sk-container-id-2 div.sk-label:hover label.sk-toggleable__label {background-color: #d4ebff;}#sk-container-id-2 div.sk-serial::before {content: \"\";position: absolute;border-left: 1px solid gray;box-sizing: border-box;top: 0;bottom: 0;left: 50%;z-index: 0;}#sk-container-id-2 div.sk-serial {display: flex;flex-direction: column;align-items: center;background-color: white;padding-right: 0.2em;padding-left: 0.2em;position: relative;}#sk-container-id-2 div.sk-item {position: relative;z-index: 1;}#sk-container-id-2 div.sk-parallel {display: flex;align-items: stretch;justify-content: center;background-color: white;position: relative;}#sk-container-id-2 div.sk-item::before, #sk-container-id-2 div.sk-parallel-item::before {content: \"\";position: absolute;border-left: 1px solid gray;box-sizing: border-box;top: 0;bottom: 0;left: 50%;z-index: -1;}#sk-container-id-2 div.sk-parallel-item {display: flex;flex-direction: column;z-index: 1;position: relative;background-color: white;}#sk-container-id-2 div.sk-parallel-item:first-child::after {align-self: flex-end;width: 50%;}#sk-container-id-2 div.sk-parallel-item:last-child::after {align-self: flex-start;width: 50%;}#sk-container-id-2 div.sk-parallel-item:only-child::after {width: 0;}#sk-container-id-2 div.sk-dashed-wrapped {border: 1px dashed gray;margin: 0 0.4em 0.5em 0.4em;box-sizing: border-box;padding-bottom: 0.4em;background-color: white;}#sk-container-id-2 div.sk-label label {font-family: monospace;font-weight: bold;display: inline-block;line-height: 1.2em;}#sk-container-id-2 div.sk-label-container {text-align: center;}#sk-container-id-2 div.sk-container {/* jupyter's `normalize.less` sets `[hidden] { display: none; }` but bootstrap.min.css set `[hidden] { display: none !important; }` so we also need the `!important` here to be able to override the default hidden behavior on the sphinx rendered scikit-learn.org. See: https://github.com/scikit-learn/scikit-learn/issues/21755 */display: inline-block !important;position: relative;}#sk-container-id-2 div.sk-text-repr-fallback {display: none;}</style><div id=\"sk-container-id-2\" class=\"sk-top-container\"><div class=\"sk-text-repr-fallback\"><pre>Pipeline(steps=[(&#x27;columntransformer&#x27;,\n",
       "                 ColumnTransformer(remainder=&#x27;passthrough&#x27;,\n",
       "                                   transformers=[(&#x27;onehotencoder&#x27;,\n",
       "                                                  OneHotEncoder(categories=[array([&#x27;Apple&#x27;, &#x27;Banana&#x27;, &#x27;Bhindi&#x27;, &#x27;Bitter Gourd&#x27;, &#x27;Brinjal&#x27;, &#x27;Cabbage&#x27;,\n",
       "       &#x27;Capsicum&#x27;, &#x27;Carrot&#x27;, &#x27;Cauliflower&#x27;, &#x27;Cluster Beans&#x27;, &#x27;Colacasia&#x27;,\n",
       "       &#x27;Cucumbar&#x27;, &#x27;Dry Fodder&#x27;, &#x27;French Beans&#x27;, &#x27;Grapes&#x27;, &#x27;Green Chilli&#x27;,\n",
       "       &#x27;Green Fodder&#x27;, &#x27;Guava&#x27;, &#x27;Lea...\n",
       "       &#x27;Mango&#x27;, &#x27;Methi(Leaves)&#x27;, &#x27;Mousambi&#x27;, &#x27;Onion&#x27;, &#x27;Pear&#x27;,\n",
       "       &#x27;Pomegranate&#x27;, &#x27;Potato&#x27;, &#x27;Pumpkin&#x27;, &#x27;Raddish&#x27;, &#x27;Sponge Gourd&#x27;,\n",
       "       &#x27;Sweet Potato&#x27;, &#x27;Tinda&#x27;, &#x27;Tomato&#x27;, &#x27;Wheat&#x27;, &#x27;blackgram&#x27;,\n",
       "       &#x27;chickpea&#x27;, &#x27;coconut&#x27;, &#x27;coffee&#x27;, &#x27;cotton&#x27;, &#x27;jute&#x27;, &#x27;kidneybeans&#x27;,\n",
       "       &#x27;lentil&#x27;, &#x27;mothbeans&#x27;, &#x27;mungbean&#x27;, &#x27;muskmelon&#x27;, &#x27;orange&#x27;, &#x27;papaya&#x27;,\n",
       "       &#x27;pigeonbeans&#x27;, &#x27;rice&#x27;, &#x27;watermelon&#x27;], dtype=object)]),\n",
       "                                                  [&#x27;crop&#x27;])])),\n",
       "                (&#x27;linearregression&#x27;, LinearRegression())])</pre><b>In a Jupyter environment, please rerun this cell to show the HTML representation or trust the notebook. <br />On GitHub, the HTML representation is unable to render, please try loading this page with nbviewer.org.</b></div><div class=\"sk-container\" hidden><div class=\"sk-item sk-dashed-wrapped\"><div class=\"sk-label-container\"><div class=\"sk-label sk-toggleable\"><input class=\"sk-toggleable__control sk-hidden--visually\" id=\"sk-estimator-id-2\" type=\"checkbox\" ><label for=\"sk-estimator-id-2\" class=\"sk-toggleable__label sk-toggleable__label-arrow\">Pipeline</label><div class=\"sk-toggleable__content\"><pre>Pipeline(steps=[(&#x27;columntransformer&#x27;,\n",
       "                 ColumnTransformer(remainder=&#x27;passthrough&#x27;,\n",
       "                                   transformers=[(&#x27;onehotencoder&#x27;,\n",
       "                                                  OneHotEncoder(categories=[array([&#x27;Apple&#x27;, &#x27;Banana&#x27;, &#x27;Bhindi&#x27;, &#x27;Bitter Gourd&#x27;, &#x27;Brinjal&#x27;, &#x27;Cabbage&#x27;,\n",
       "       &#x27;Capsicum&#x27;, &#x27;Carrot&#x27;, &#x27;Cauliflower&#x27;, &#x27;Cluster Beans&#x27;, &#x27;Colacasia&#x27;,\n",
       "       &#x27;Cucumbar&#x27;, &#x27;Dry Fodder&#x27;, &#x27;French Beans&#x27;, &#x27;Grapes&#x27;, &#x27;Green Chilli&#x27;,\n",
       "       &#x27;Green Fodder&#x27;, &#x27;Guava&#x27;, &#x27;Lea...\n",
       "       &#x27;Mango&#x27;, &#x27;Methi(Leaves)&#x27;, &#x27;Mousambi&#x27;, &#x27;Onion&#x27;, &#x27;Pear&#x27;,\n",
       "       &#x27;Pomegranate&#x27;, &#x27;Potato&#x27;, &#x27;Pumpkin&#x27;, &#x27;Raddish&#x27;, &#x27;Sponge Gourd&#x27;,\n",
       "       &#x27;Sweet Potato&#x27;, &#x27;Tinda&#x27;, &#x27;Tomato&#x27;, &#x27;Wheat&#x27;, &#x27;blackgram&#x27;,\n",
       "       &#x27;chickpea&#x27;, &#x27;coconut&#x27;, &#x27;coffee&#x27;, &#x27;cotton&#x27;, &#x27;jute&#x27;, &#x27;kidneybeans&#x27;,\n",
       "       &#x27;lentil&#x27;, &#x27;mothbeans&#x27;, &#x27;mungbean&#x27;, &#x27;muskmelon&#x27;, &#x27;orange&#x27;, &#x27;papaya&#x27;,\n",
       "       &#x27;pigeonbeans&#x27;, &#x27;rice&#x27;, &#x27;watermelon&#x27;], dtype=object)]),\n",
       "                                                  [&#x27;crop&#x27;])])),\n",
       "                (&#x27;linearregression&#x27;, LinearRegression())])</pre></div></div></div><div class=\"sk-serial\"><div class=\"sk-item sk-dashed-wrapped\"><div class=\"sk-label-container\"><div class=\"sk-label sk-toggleable\"><input class=\"sk-toggleable__control sk-hidden--visually\" id=\"sk-estimator-id-3\" type=\"checkbox\" ><label for=\"sk-estimator-id-3\" class=\"sk-toggleable__label sk-toggleable__label-arrow\">columntransformer: ColumnTransformer</label><div class=\"sk-toggleable__content\"><pre>ColumnTransformer(remainder=&#x27;passthrough&#x27;,\n",
       "                  transformers=[(&#x27;onehotencoder&#x27;,\n",
       "                                 OneHotEncoder(categories=[array([&#x27;Apple&#x27;, &#x27;Banana&#x27;, &#x27;Bhindi&#x27;, &#x27;Bitter Gourd&#x27;, &#x27;Brinjal&#x27;, &#x27;Cabbage&#x27;,\n",
       "       &#x27;Capsicum&#x27;, &#x27;Carrot&#x27;, &#x27;Cauliflower&#x27;, &#x27;Cluster Beans&#x27;, &#x27;Colacasia&#x27;,\n",
       "       &#x27;Cucumbar&#x27;, &#x27;Dry Fodder&#x27;, &#x27;French Beans&#x27;, &#x27;Grapes&#x27;, &#x27;Green Chilli&#x27;,\n",
       "       &#x27;Green Fodder&#x27;, &#x27;Guava&#x27;, &#x27;Leafy Vegetable&#x27;, &#x27;Lemon&#x27;, &#x27;Maize&#x27;,\n",
       "       &#x27;Mango&#x27;, &#x27;Methi(Leaves)&#x27;, &#x27;Mousambi&#x27;, &#x27;Onion&#x27;, &#x27;Pear&#x27;,\n",
       "       &#x27;Pomegranate&#x27;, &#x27;Potato&#x27;, &#x27;Pumpkin&#x27;, &#x27;Raddish&#x27;, &#x27;Sponge Gourd&#x27;,\n",
       "       &#x27;Sweet Potato&#x27;, &#x27;Tinda&#x27;, &#x27;Tomato&#x27;, &#x27;Wheat&#x27;, &#x27;blackgram&#x27;,\n",
       "       &#x27;chickpea&#x27;, &#x27;coconut&#x27;, &#x27;coffee&#x27;, &#x27;cotton&#x27;, &#x27;jute&#x27;, &#x27;kidneybeans&#x27;,\n",
       "       &#x27;lentil&#x27;, &#x27;mothbeans&#x27;, &#x27;mungbean&#x27;, &#x27;muskmelon&#x27;, &#x27;orange&#x27;, &#x27;papaya&#x27;,\n",
       "       &#x27;pigeonbeans&#x27;, &#x27;rice&#x27;, &#x27;watermelon&#x27;], dtype=object)]),\n",
       "                                 [&#x27;crop&#x27;])])</pre></div></div></div><div class=\"sk-parallel\"><div class=\"sk-parallel-item\"><div class=\"sk-item\"><div class=\"sk-label-container\"><div class=\"sk-label sk-toggleable\"><input class=\"sk-toggleable__control sk-hidden--visually\" id=\"sk-estimator-id-4\" type=\"checkbox\" ><label for=\"sk-estimator-id-4\" class=\"sk-toggleable__label sk-toggleable__label-arrow\">onehotencoder</label><div class=\"sk-toggleable__content\"><pre>[&#x27;crop&#x27;]</pre></div></div></div><div class=\"sk-serial\"><div class=\"sk-item\"><div class=\"sk-estimator sk-toggleable\"><input class=\"sk-toggleable__control sk-hidden--visually\" id=\"sk-estimator-id-5\" type=\"checkbox\" ><label for=\"sk-estimator-id-5\" class=\"sk-toggleable__label sk-toggleable__label-arrow\">OneHotEncoder</label><div class=\"sk-toggleable__content\"><pre>OneHotEncoder(categories=[array([&#x27;Apple&#x27;, &#x27;Banana&#x27;, &#x27;Bhindi&#x27;, &#x27;Bitter Gourd&#x27;, &#x27;Brinjal&#x27;, &#x27;Cabbage&#x27;,\n",
       "       &#x27;Capsicum&#x27;, &#x27;Carrot&#x27;, &#x27;Cauliflower&#x27;, &#x27;Cluster Beans&#x27;, &#x27;Colacasia&#x27;,\n",
       "       &#x27;Cucumbar&#x27;, &#x27;Dry Fodder&#x27;, &#x27;French Beans&#x27;, &#x27;Grapes&#x27;, &#x27;Green Chilli&#x27;,\n",
       "       &#x27;Green Fodder&#x27;, &#x27;Guava&#x27;, &#x27;Leafy Vegetable&#x27;, &#x27;Lemon&#x27;, &#x27;Maize&#x27;,\n",
       "       &#x27;Mango&#x27;, &#x27;Methi(Leaves)&#x27;, &#x27;Mousambi&#x27;, &#x27;Onion&#x27;, &#x27;Pear&#x27;,\n",
       "       &#x27;Pomegranate&#x27;, &#x27;Potato&#x27;, &#x27;Pumpkin&#x27;, &#x27;Raddish&#x27;, &#x27;Sponge Gourd&#x27;,\n",
       "       &#x27;Sweet Potato&#x27;, &#x27;Tinda&#x27;, &#x27;Tomato&#x27;, &#x27;Wheat&#x27;, &#x27;blackgram&#x27;,\n",
       "       &#x27;chickpea&#x27;, &#x27;coconut&#x27;, &#x27;coffee&#x27;, &#x27;cotton&#x27;, &#x27;jute&#x27;, &#x27;kidneybeans&#x27;,\n",
       "       &#x27;lentil&#x27;, &#x27;mothbeans&#x27;, &#x27;mungbean&#x27;, &#x27;muskmelon&#x27;, &#x27;orange&#x27;, &#x27;papaya&#x27;,\n",
       "       &#x27;pigeonbeans&#x27;, &#x27;rice&#x27;, &#x27;watermelon&#x27;], dtype=object)])</pre></div></div></div></div></div></div><div class=\"sk-parallel-item\"><div class=\"sk-item\"><div class=\"sk-label-container\"><div class=\"sk-label sk-toggleable\"><input class=\"sk-toggleable__control sk-hidden--visually\" id=\"sk-estimator-id-6\" type=\"checkbox\" ><label for=\"sk-estimator-id-6\" class=\"sk-toggleable__label sk-toggleable__label-arrow\">remainder</label><div class=\"sk-toggleable__content\"><pre>[&#x27;year&#x27;, &#x27;crop_id&#x27;, &#x27;production&#x27;, &#x27;demand&#x27;]</pre></div></div></div><div class=\"sk-serial\"><div class=\"sk-item\"><div class=\"sk-estimator sk-toggleable\"><input class=\"sk-toggleable__control sk-hidden--visually\" id=\"sk-estimator-id-7\" type=\"checkbox\" ><label for=\"sk-estimator-id-7\" class=\"sk-toggleable__label sk-toggleable__label-arrow\">passthrough</label><div class=\"sk-toggleable__content\"><pre>passthrough</pre></div></div></div></div></div></div></div></div><div class=\"sk-item\"><div class=\"sk-estimator sk-toggleable\"><input class=\"sk-toggleable__control sk-hidden--visually\" id=\"sk-estimator-id-8\" type=\"checkbox\" ><label for=\"sk-estimator-id-8\" class=\"sk-toggleable__label sk-toggleable__label-arrow\">LinearRegression</label><div class=\"sk-toggleable__content\"><pre>LinearRegression()</pre></div></div></div></div></div></div></div>"
      ],
      "text/plain": [
       "Pipeline(steps=[('columntransformer',\n",
       "                 ColumnTransformer(remainder='passthrough',\n",
       "                                   transformers=[('onehotencoder',\n",
       "                                                  OneHotEncoder(categories=[array(['Apple', 'Banana', 'Bhindi', 'Bitter Gourd', 'Brinjal', 'Cabbage',\n",
       "       'Capsicum', 'Carrot', 'Cauliflower', 'Cluster Beans', 'Colacasia',\n",
       "       'Cucumbar', 'Dry Fodder', 'French Beans', 'Grapes', 'Green Chilli',\n",
       "       'Green Fodder', 'Guava', 'Lea...\n",
       "       'Mango', 'Methi(Leaves)', 'Mousambi', 'Onion', 'Pear',\n",
       "       'Pomegranate', 'Potato', 'Pumpkin', 'Raddish', 'Sponge Gourd',\n",
       "       'Sweet Potato', 'Tinda', 'Tomato', 'Wheat', 'blackgram',\n",
       "       'chickpea', 'coconut', 'coffee', 'cotton', 'jute', 'kidneybeans',\n",
       "       'lentil', 'mothbeans', 'mungbean', 'muskmelon', 'orange', 'papaya',\n",
       "       'pigeonbeans', 'rice', 'watermelon'], dtype=object)]),\n",
       "                                                  ['crop'])])),\n",
       "                ('linearregression', LinearRegression())])"
      ]
     },
     "execution_count": 26,
     "metadata": {},
     "output_type": "execute_result"
    }
   ],
   "source": [
    "pipe.fit(X_train,y_train)"
   ]
  },
  {
   "cell_type": "code",
   "execution_count": 27,
   "id": "aba0ac11",
   "metadata": {},
   "outputs": [],
   "source": [
    "y_pred = pipe.predict(X_test)"
   ]
  },
  {
   "cell_type": "code",
   "execution_count": 28,
   "id": "a97286db",
   "metadata": {},
   "outputs": [
    {
     "data": {
      "text/plain": [
       "array([ 1750.02064193,  1869.38630779,  1685.75725972, 11907.92487185,\n",
       "        4489.76125044,  1884.21395987,  1536.68127337,   841.40355647,\n",
       "        3111.50070313,  1400.03705347,  2284.47280481,   866.36695384,\n",
       "        6062.545486  ,  7441.88222632,  6211.25394762,  1817.18277208,\n",
       "        7412.55772755,   851.01376772,  3165.98242785,  2028.3832079 ,\n",
       "       11912.28235213,  1479.84095386,  3027.88436326,  1499.14469801,\n",
       "        2984.89410934,  1577.54787683,  1333.98943186,  3168.70604628,\n",
       "        1643.76403517,  1176.13281614,  1937.41770372,  1615.09861403,\n",
       "        1580.53152062,  5478.66067258,  2350.06684052,  1962.45740285,\n",
       "        1426.77607088,  1114.57426879,  1643.13909699,  1778.39561934,\n",
       "        1478.66567958,  8238.48871004,  1416.12257311,  8725.36514535,\n",
       "       11930.81276041,  8961.73794463,  8322.03326657,  4250.78597485,\n",
       "        2026.51322679,  1707.53850848,  1638.20054472,  1115.32222963,\n",
       "         819.47294863,  2550.68766606,  6272.16936869,  4300.59995813,\n",
       "         856.73707215,  1333.64069116,  3013.77890949,   903.98000825,\n",
       "         972.83757227,  1589.20224516,  1555.98097871,  4444.65065668,\n",
       "        1643.51429833,  1957.25133415,  5462.43257055,  2595.34329414,\n",
       "        2604.84907567,  1045.72093044,  2257.76983089,   852.72864551,\n",
       "        1585.41734775,  1904.31079492,  3188.0861302 ,  1639.36202856,\n",
       "        4347.29529975,  1618.32404677,  8981.82039781,  1523.41160898,\n",
       "        1701.46907724,  1824.01110484,  1169.88024982,  1654.11435506,\n",
       "        2156.23609403,  1543.25108837,  4224.64642453,  6402.73959364,\n",
       "        8954.20425112,  6220.98175563,   759.03901066,  3135.99829262,\n",
       "        1411.21022334,  3202.4170761 ,  8477.8017997 ,  6093.62216471,\n",
       "        1109.57890651,  3060.61546094,  4273.52633953, 11943.92842645,\n",
       "        1387.35325648,  5760.36069062,   920.21075236,  8685.88587803,\n",
       "        5707.09461868,  1617.21703303,  1584.13756968,  4517.41093775,\n",
       "         983.71628412,  6415.83354045,  2579.37948495,  4237.27823946,\n",
       "        1727.55035495,  2200.28165818,  1537.55083122, 11929.874009  ,\n",
       "        1590.80077433,  2538.61624226,  5483.91476959,  1889.13022581,\n",
       "        1975.18210032,  8413.29030126,  1506.25500134])"
      ]
     },
     "execution_count": 28,
     "metadata": {},
     "output_type": "execute_result"
    }
   ],
   "source": [
    "y_pred"
   ]
  },
  {
   "cell_type": "code",
   "execution_count": 29,
   "id": "d773a8b9",
   "metadata": {},
   "outputs": [
    {
     "data": {
      "text/plain": [
       "0.9592352837489262"
      ]
     },
     "execution_count": 29,
     "metadata": {},
     "output_type": "execute_result"
    }
   ],
   "source": [
    "r2_score(y_test,y_pred)"
   ]
  },
  {
   "cell_type": "code",
   "execution_count": 30,
   "id": "3bab088b",
   "metadata": {},
   "outputs": [],
   "source": [
    "import pickle"
   ]
  },
  {
   "cell_type": "code",
   "execution_count": 31,
   "id": "b42f98f8",
   "metadata": {},
   "outputs": [],
   "source": [
    "pickle.dump(pipe,open(\"LinearRegressionModel.pkl\",\"wb\"))"
   ]
  },
  {
   "cell_type": "code",
   "execution_count": 32,
   "id": "8ee56121",
   "metadata": {},
   "outputs": [
    {
     "data": {
      "text/html": [
       "<div>\n",
       "<style scoped>\n",
       "    .dataframe tbody tr th:only-of-type {\n",
       "        vertical-align: middle;\n",
       "    }\n",
       "\n",
       "    .dataframe tbody tr th {\n",
       "        vertical-align: top;\n",
       "    }\n",
       "\n",
       "    .dataframe thead th {\n",
       "        text-align: right;\n",
       "    }\n",
       "</style>\n",
       "<table border=\"1\" class=\"dataframe\">\n",
       "  <thead>\n",
       "    <tr style=\"text-align: right;\">\n",
       "      <th></th>\n",
       "      <th>year</th>\n",
       "      <th>crop_id</th>\n",
       "      <th>crop</th>\n",
       "      <th>production</th>\n",
       "      <th>demand</th>\n",
       "      <th>price</th>\n",
       "    </tr>\n",
       "  </thead>\n",
       "  <tbody>\n",
       "    <tr>\n",
       "      <th>0</th>\n",
       "      <td>2010</td>\n",
       "      <td>1</td>\n",
       "      <td>Onion</td>\n",
       "      <td>32737</td>\n",
       "      <td>50275</td>\n",
       "      <td>2174</td>\n",
       "    </tr>\n",
       "    <tr>\n",
       "      <th>1</th>\n",
       "      <td>2010</td>\n",
       "      <td>2</td>\n",
       "      <td>Potato</td>\n",
       "      <td>50343</td>\n",
       "      <td>48812</td>\n",
       "      <td>2395</td>\n",
       "    </tr>\n",
       "    <tr>\n",
       "      <th>2</th>\n",
       "      <td>2010</td>\n",
       "      <td>3</td>\n",
       "      <td>Tomato</td>\n",
       "      <td>50334</td>\n",
       "      <td>33002</td>\n",
       "      <td>2189</td>\n",
       "    </tr>\n",
       "    <tr>\n",
       "      <th>3</th>\n",
       "      <td>2010</td>\n",
       "      <td>4</td>\n",
       "      <td>Apple</td>\n",
       "      <td>40927</td>\n",
       "      <td>57855</td>\n",
       "      <td>16217</td>\n",
       "    </tr>\n",
       "    <tr>\n",
       "      <th>4</th>\n",
       "      <td>2010</td>\n",
       "      <td>5</td>\n",
       "      <td>Bhindi</td>\n",
       "      <td>52172</td>\n",
       "      <td>58585</td>\n",
       "      <td>2303</td>\n",
       "    </tr>\n",
       "  </tbody>\n",
       "</table>\n",
       "</div>"
      ],
      "text/plain": [
       "   year  crop_id    crop  production  demand  price\n",
       "0  2010        1   Onion       32737   50275   2174\n",
       "1  2010        2  Potato       50343   48812   2395\n",
       "2  2010        3  Tomato       50334   33002   2189\n",
       "3  2010        4   Apple       40927   57855  16217\n",
       "4  2010        5  Bhindi       52172   58585   2303"
      ]
     },
     "execution_count": 32,
     "metadata": {},
     "output_type": "execute_result"
    }
   ],
   "source": [
    "db.head()"
   ]
  },
  {
   "cell_type": "code",
   "execution_count": 33,
   "id": "05586372",
   "metadata": {},
   "outputs": [
    {
     "data": {
      "text/plain": [
       "array([1751.23813808])"
      ]
     },
     "execution_count": 33,
     "metadata": {},
     "output_type": "execute_result"
    }
   ],
   "source": [
    "pipe.predict(pd.DataFrame([[2024,2,\"Potato\",60000,10000]],columns = [\"year\",\"crop_id\",\"crop\",\"production\",\"demand\"]))"
   ]
  },
  {
   "cell_type": "code",
   "execution_count": 34,
   "id": "f8314630",
   "metadata": {},
   "outputs": [
    {
     "data": {
      "text/plain": [
       "array([948.96231391])"
      ]
     },
     "execution_count": 34,
     "metadata": {},
     "output_type": "execute_result"
    }
   ],
   "source": [
    "pipe.predict(pd.DataFrame([[2050,5,\"Bhindi\",30000,100000]],columns = [\"year\",\"crop_id\",\"crop\",\"production\",\"demand\"]))"
   ]
  },
  {
   "cell_type": "code",
   "execution_count": 35,
   "id": "0a58bad8",
   "metadata": {},
   "outputs": [],
   "source": [
    "import pickle"
   ]
  },
  {
   "cell_type": "code",
   "execution_count": 36,
   "id": "8c22cbb4",
   "metadata": {},
   "outputs": [],
   "source": [
    "loaded_model = pickle.load(open(\"LinearRegressionModel.pkl\",'rb'))"
   ]
  },
  {
   "cell_type": "code",
   "execution_count": 37,
   "id": "59054b80",
   "metadata": {},
   "outputs": [
    {
     "data": {
      "text/plain": [
       "array([1751.23813808])"
      ]
     },
     "execution_count": 37,
     "metadata": {},
     "output_type": "execute_result"
    }
   ],
   "source": [
    "loaded_model.predict(pd.DataFrame([[2024,2,\"Potato\",60000,10000]],columns = [\"year\",\"crop_id\",\"crop\",\"production\",\"demand\"]))"
   ]
  },
  {
   "cell_type": "code",
   "execution_count": null,
   "id": "4acda903",
   "metadata": {},
   "outputs": [],
   "source": []
  }
 ],
 "metadata": {
  "kernelspec": {
   "display_name": "Python 3",
   "language": "python",
   "name": "python3"
  },
  "language_info": {
   "codemirror_mode": {
    "name": "ipython",
    "version": 3
   },
   "file_extension": ".py",
   "mimetype": "text/x-python",
   "name": "python",
   "nbconvert_exporter": "python",
   "pygments_lexer": "ipython3",
   "version": "3.8.8"
  }
 },
 "nbformat": 4,
 "nbformat_minor": 5
}
